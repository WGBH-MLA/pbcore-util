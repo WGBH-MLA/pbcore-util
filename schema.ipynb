{
 "cells": [
  {
   "cell_type": "code",
   "execution_count": 69,
   "id": "4b9d6552",
   "metadata": {},
   "outputs": [],
   "source": [
    "from jsonschema import validate, ValidationError\n",
    "from json import load"
   ]
  },
  {
   "cell_type": "code",
   "execution_count": 70,
   "id": "3b33a60f",
   "metadata": {},
   "outputs": [],
   "source": [
    "def validate_json(json_data, schema_file=schema):\n",
    "    try:\n",
    "        validate(instance=json_data, schema=schema)\n",
    "        return True\n",
    "    except ValidationError as e:\n",
    "        return e.message"
   ]
  },
  {
   "cell_type": "code",
   "execution_count": null,
   "id": "4bd11019",
   "metadata": {},
   "outputs": [
    {
     "ename": "FileNotFoundError",
     "evalue": "[Errno 2] No such file or directory: 'batch3/cpb-aacip-15-nc5s756s32.json'",
     "output_type": "error",
     "traceback": [
      "\u001b[31m---------------------------------------------------------------------------\u001b[39m",
      "\u001b[31mFileNotFoundError\u001b[39m                         Traceback (most recent call last)",
      "\u001b[36mCell\u001b[39m\u001b[36m \u001b[39m\u001b[32mIn[74]\u001b[39m\u001b[32m, line 10\u001b[39m\n\u001b[32m      7\u001b[39m     schema = json.load(schema_file)\n\u001b[32m      9\u001b[39m \u001b[38;5;66;03m# with open(path.join(DIRECTORY, 'cpb-aacip_15-29p2p5g8.json'), 'r') as f:\u001b[39;00m\n\u001b[32m---> \u001b[39m\u001b[32m10\u001b[39m \u001b[38;5;28;01mwith\u001b[39;00m \u001b[38;5;28;43mopen\u001b[39;49m\u001b[43m(\u001b[49m\u001b[43mpath\u001b[49m\u001b[43m.\u001b[49m\u001b[43mjoin\u001b[49m\u001b[43m(\u001b[49m\u001b[43mDIRECTORY\u001b[49m\u001b[43m,\u001b[49m\u001b[43m \u001b[49m\u001b[33;43m'\u001b[39;49m\u001b[33;43mcpb-aacip-15-nc5s756s32.json\u001b[39;49m\u001b[33;43m'\u001b[39;49m\u001b[43m)\u001b[49m\u001b[43m,\u001b[49m\u001b[43m \u001b[49m\u001b[33;43m'\u001b[39;49m\u001b[33;43mr\u001b[39;49m\u001b[33;43m'\u001b[39;49m\u001b[43m)\u001b[49m \u001b[38;5;28;01mas\u001b[39;00m f:\n\u001b[32m     11\u001b[39m     json_data = json.load(f)\n\u001b[32m     13\u001b[39m \u001b[38;5;66;03m# json_data\u001b[39;00m\n\u001b[32m     14\u001b[39m \n\u001b[32m     15\u001b[39m \u001b[38;5;66;03m# validate_json(json_data)\u001b[39;00m\n",
      "\u001b[36mFile \u001b[39m\u001b[32m~/gbh/pbcore-util/.venv/lib/python3.13/site-packages/IPython/core/interactiveshell.py:327\u001b[39m, in \u001b[36m_modified_open\u001b[39m\u001b[34m(file, *args, **kwargs)\u001b[39m\n\u001b[32m    320\u001b[39m \u001b[38;5;28;01mif\u001b[39;00m file \u001b[38;5;129;01min\u001b[39;00m {\u001b[32m0\u001b[39m, \u001b[32m1\u001b[39m, \u001b[32m2\u001b[39m}:\n\u001b[32m    321\u001b[39m     \u001b[38;5;28;01mraise\u001b[39;00m \u001b[38;5;167;01mValueError\u001b[39;00m(\n\u001b[32m    322\u001b[39m         \u001b[33mf\u001b[39m\u001b[33m\"\u001b[39m\u001b[33mIPython won\u001b[39m\u001b[33m'\u001b[39m\u001b[33mt let you open fd=\u001b[39m\u001b[38;5;132;01m{\u001b[39;00mfile\u001b[38;5;132;01m}\u001b[39;00m\u001b[33m by default \u001b[39m\u001b[33m\"\u001b[39m\n\u001b[32m    323\u001b[39m         \u001b[33m\"\u001b[39m\u001b[33mas it is likely to crash IPython. If you know what you are doing, \u001b[39m\u001b[33m\"\u001b[39m\n\u001b[32m    324\u001b[39m         \u001b[33m\"\u001b[39m\u001b[33myou can use builtins\u001b[39m\u001b[33m'\u001b[39m\u001b[33m open.\u001b[39m\u001b[33m\"\u001b[39m\n\u001b[32m    325\u001b[39m     )\n\u001b[32m--> \u001b[39m\u001b[32m327\u001b[39m \u001b[38;5;28;01mreturn\u001b[39;00m \u001b[43mio_open\u001b[49m\u001b[43m(\u001b[49m\u001b[43mfile\u001b[49m\u001b[43m,\u001b[49m\u001b[43m \u001b[49m\u001b[43m*\u001b[49m\u001b[43margs\u001b[49m\u001b[43m,\u001b[49m\u001b[43m \u001b[49m\u001b[43m*\u001b[49m\u001b[43m*\u001b[49m\u001b[43mkwargs\u001b[49m\u001b[43m)\u001b[49m\n",
      "\u001b[31mFileNotFoundError\u001b[39m: [Errno 2] No such file or directory: 'batch3/cpb-aacip-15-nc5s756s32.json'"
     ]
    }
   ],
   "source": [
    "from os import path\n",
    "import json\n",
    "DIRECTORY = 'batch3'\n",
    "SCHEMA='schemas/pbcore.schema.json'\n",
    "\n",
    "with open(SCHEMA, 'r') as schema_file:\n",
    "    schema = json.load(schema_file)\n",
    "\n",
    "# with open(path.join(DIRECTORY, 'cpb-aacip_15-29p2p5g8.json'), 'r') as f:\n",
    "with open('cpb-aacip-15-nc5s756s32.json', 'r') as f:\n",
    "    json_data = json.load(f)\n",
    "\n",
    "# json_data\n",
    "\n",
    "# validate_json(json_data)\n",
    "validate(json_data, schema)"
   ]
  },
  {
   "cell_type": "code",
   "execution_count": 72,
   "id": "b1d553b3",
   "metadata": {},
   "outputs": [],
   "source": [
    "import os\n",
    "errors = []\n",
    "for path, subdirs, files in os.walk(DIRECTORY):\n",
    "    for name in files:\n",
    "        if name.startswith('cpb-aacip') and name.endswith('.json'):\n",
    "            with open(os.path.join(path, name), 'r') as f:\n",
    "                json_data = json.load(f)\n",
    "                try:\n",
    "                    validate(json_data, schema)\n",
    "                    # print(f\"{name} is valid.\")\n",
    "                except ValidationError as e:\n",
    "                    print(f\"{name} is invalid: {e.message}\")\n",
    "                    errors.append((name, e.message))\n"
   ]
  },
  {
   "cell_type": "code",
   "execution_count": 73,
   "id": "529521e9",
   "metadata": {},
   "outputs": [
    {
     "data": {
      "text/plain": [
       "0"
      ]
     },
     "execution_count": 73,
     "metadata": {},
     "output_type": "execute_result"
    }
   ],
   "source": [
    "len(errors)"
   ]
  }
 ],
 "metadata": {
  "kernelspec": {
   "display_name": "pbcore-util (3.13.4)",
   "language": "python",
   "name": "python3"
  },
  "language_info": {
   "codemirror_mode": {
    "name": "ipython",
    "version": 3
   },
   "file_extension": ".py",
   "mimetype": "text/x-python",
   "name": "python",
   "nbconvert_exporter": "python",
   "pygments_lexer": "ipython3",
   "version": "3.13.4"
  }
 },
 "nbformat": 4,
 "nbformat_minor": 5
}
