{
 "cells": [
  {
   "cell_type": "code",
   "execution_count": 11,
   "id": "4b9d6552",
   "metadata": {},
   "outputs": [],
   "source": [
    "import os\n",
    "from jsonschema_rs import validator_for\n",
    "import json\n",
    "\n",
    "from jsonschema import validate\n",
    "from pbcore.models.models import PBCore"
   ]
  },
  {
   "cell_type": "code",
   "execution_count": 12,
   "id": "4bd11019",
   "metadata": {},
   "outputs": [],
   "source": [
    "SCHEMA='schemas/pbcore.schema.json'\n",
    "DIRECTORY = 'pbcore-json'\n",
    "\n",
    "with open(SCHEMA, 'r') as schema_file:\n",
    "    schema = json.load(schema_file)\n",
    "\n",
    "pb = validator_for(schema)\n",
    "\n",
    "# with open(os.path.join(DIRECTORY, 'cpb-aacip_15-29p2p5g8.json'), 'r') as f:\n",
    "with open(os.path.join(DIRECTORY, 'cpb-aacip-15-nc5s756s32.json'), 'r') as f:\n",
    "    json_data = json.load(f)\n",
    "\n",
    "# json_data\n",
    "\n",
    "# validate_json(json_data)\n",
    "# validate(json_data, schema)\n",
    "pb.validate(json_data)"
   ]
  },
  {
   "cell_type": "code",
   "execution_count": 13,
   "id": "b1d553b3",
   "metadata": {},
   "outputs": [],
   "source": [
    "errors = []\n",
    "success = []\n",
    "for path, subdirs, files in os.walk(DIRECTORY):\n",
    "    for name in files:\n",
    "        if name.startswith('cpb-aacip') and name.endswith('.json'):\n",
    "            with open(os.path.join(path, name), 'r') as f:\n",
    "                json_data = json.load(f)\n",
    "                try:\n",
    "                    # validate(json_data, schema) # jsonschema\n",
    "                    # pb.validate(json_data) # jsonschema_rs\n",
    "                    PBCore.model_validate(json_data) # pydantic\n",
    "                    # print(f\"{name} is valid.\")\n",
    "                    success.append(name)\n",
    "                except Exception as e:\n",
    "                    print(f\"{name} is invalid: {e.message}\")\n",
    "                    errors.append((name, e.message))\n"
   ]
  },
  {
   "cell_type": "code",
   "execution_count": 14,
   "id": "529521e9",
   "metadata": {},
   "outputs": [
    {
     "data": {
      "text/plain": [
       "(4159, 0)"
      ]
     },
     "execution_count": 14,
     "metadata": {},
     "output_type": "execute_result"
    }
   ],
   "source": [
    "len(success), len(errors)"
   ]
  },
  {
   "cell_type": "code",
   "execution_count": 15,
   "id": "cecbb653",
   "metadata": {},
   "outputs": [],
   "source": [
    "mvp={\n",
    "        \"pbcoreDescriptionDocument\": {\n",
    "            \"xsi:schemaLocation\": \"http://www.example.com/schema\",\n",
    "            \"pbcoreIdentifier\": [{\"text\": \"123\", \"source\": \"example\"}],\n",
    "            \"pbcoreTitle\": [{\"text\": \"Title\"}],\n",
    "            \"pbcoreDescription\": [{\"text\": \"\"}],\n",
    "        },\n",
    "    }\n",
    "del mvp['pbcoreDescriptionDocument']['pbcoreIdentifier'][0]['source']\n",
    "\n",
    "# pb.validate(mvp)"
   ]
  },
  {
   "cell_type": "code",
   "execution_count": 16,
   "id": "daec9103",
   "metadata": {},
   "outputs": [
    {
     "data": {
      "text/plain": [
       "PBCore(pbcoreDescriptionDocument=PBCoreDescriptionDocument(xsi_schemaLocation='http://www.example.com/schema', pbcoreAssetType=None, pbcoreAssetDate=None, pbcoreIdentifier=[PBCoreElement(ref=None, version=None, annotation=None)], pbcoreTitle=[PBCoreTitleItem(startTime=None, endTime=None, timeAnnotation=None, ref=None, version=None, annotation=None, titleType=None, titleTypeSource=None, titleTypeRef=None, titleTypeVersion=None, titleTypeAnnotation=None)], pbcoreSubject=None, pbcoreDescription=[PBCoreDescriptionItem(text='')], pbcoreCreator=None, pbcoreInstantiation=None, pbcoreAnnotation=None, pbcoreRelation=None, pbcoreCoverage=None, pbcoreAudienceLevel=None))"
      ]
     },
     "execution_count": 16,
     "metadata": {},
     "output_type": "execute_result"
    }
   ],
   "source": [
    "PBCore.model_validate(mvp)"
   ]
  }
 ],
 "metadata": {
  "kernelspec": {
   "display_name": "pbcore-util (3.13.4)",
   "language": "python",
   "name": "python3"
  },
  "language_info": {
   "codemirror_mode": {
    "name": "ipython",
    "version": 3
   },
   "file_extension": ".py",
   "mimetype": "text/x-python",
   "name": "python",
   "nbconvert_exporter": "python",
   "pygments_lexer": "ipython3",
   "version": "3.13.4"
  }
 },
 "nbformat": 4,
 "nbformat_minor": 5
}
