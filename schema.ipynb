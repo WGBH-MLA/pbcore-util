{
 "cells": [
  {
   "cell_type": "code",
   "execution_count": 1,
   "id": "4b9d6552",
   "metadata": {},
   "outputs": [],
   "source": [
    "import os\n",
    "from jsonschema_rs import validator_for\n",
    "import json\n",
    "\n",
    "from jsonschema import validate\n"
   ]
  },
  {
   "cell_type": "code",
   "execution_count": 2,
   "id": "75176f55",
   "metadata": {},
   "outputs": [],
   "source": [
    "from pbcore.models import PBCore\n",
    "SCHEMA='schemas/pbcore.schema.json'\n",
    "\n",
    "with open(SCHEMA, 'w') as f:\n",
    "    f.write(json.dumps(PBCore.model_json_schema(), indent=2))"
   ]
  },
  {
   "cell_type": "code",
   "execution_count": 3,
   "id": "4bd11019",
   "metadata": {},
   "outputs": [
    {
     "data": {
      "text/plain": [
       "PBCore(pbcoreDescriptionDocument=PBCoreDescriptionDocument(xsi_schemaLocation='http://www.pbcore.org/PBCore/PBCoreNamespace.html http://www.pbcore.org/xsd/pbcore-2.1.xsd', pbcoreAssetType=None, pbcoreAssetDate=None, pbcoreIdentifier=[PBCoreIdentifier(source='Sony Ci', ref=None, version=None, annotation=None, text='7a024c75053c4afa8bb15ce15d122b0b'), PBCoreIdentifier(source='http://americanarchiveinventory.org', ref=None, version=None, annotation=None, text='cpb-aacip-d2a727119c1'), PBCoreIdentifier(source='Local Identifier', ref=None, version=None, annotation=None, text='KUT-003521')], pbcoreTitle=[PBCoreTitle(startTime=None, endTime=None, timeAnnotation=None, source=None, ref=None, version=None, annotation=None, text='Border Radio', titleType='Program', titleTypeSource=None, titleTypeRef=None, titleTypeVersion=None, titleTypeAnnotation=None)], pbcoreSubject=None, pbcoreDescription=[PBCoreDescription(startTime=None, endTime=None, timeAnnotation=None, source=None, ref=None, version=None, annotation=None, text='No description available.', descriptionType='Program', descriptionTypeSource=None, descriptionTypeRef=None, descriptionTypeVersion=None, descriptionTypeAnnotation=None, segmentType=None, segmentTypeSource=None, segmentTypeRef=None, segmentTypeVersion=None, segmentTypeAnnotation=None)], pbcoreGenre=None, pbcoreRelation=None, pbcoreCoverage=None, pbcoreAudienceLevel=None, pbcoreAudienceRating=None, pbcoreCreator=[PBCoreCreator(creator=Creator(startTime=None, endTime=None, timeAnnotation=None, affiliation=None, affiliationSource=None, affiliationRef=None, affiliationVersion=None, affiliationAnnotation=None, source=None, ref=None, version=None, annotation=None, text='KUT Radio'), creatorRole=[CreatorRole(source=None, ref=None, version=None, annotation=None, text='Producing Organization')])], pbcoreContributor=None, pbcorePublisher=None, pbcoreRightsSummary=None, pbcoreInstantiation=[PBCoreInstantiation(startTime=None, endTime=None, timeAnnotation=None, instantiationIdentifier=[InstantiationIdentifier(source='Filename', ref=None, version=None, annotation=None, text='cpb-aacip-66c6a90f6e7'), InstantiationIdentifier(source='unknown', ref=None, version=None, annotation=None, text='KUT-003521')], instantiationPhysical=InstantiationPhysical(source=None, ref=None, version=None, annotation=None, text='DAT'), instantiationLocation=InstantiationLocation(source=None, ref=None, version=None, annotation=None, text='KUT Radio Archive'), instantiationMediaType=InstantiationMediaType(source=None, ref=None, version=None, annotation=None, text='Sound'), instantiationGenerations=None, instantiationDuration=None, instantiationTracks=None, instantiationChannelConfiguration=None, instantiationAlternativeModes=None, instantiationEssenceTrack=None, instantiationAnnotation=[InstantiationAnnotation(annotationType='organization', text='KUT Radio')]), PBCoreInstantiation(startTime=None, endTime=None, timeAnnotation=None, instantiationIdentifier=[InstantiationIdentifier(source='unknown', ref=None, version=None, annotation=None, text='cpb-aacip-78747bcb8be')], instantiationPhysical=None, instantiationLocation=InstantiationLocation(source=None, ref=None, version=None, annotation=None, text='/Volumes/LaCie 1/KUT_KT0003/35540_proxies/cpb-aacip-d2a727119c1.mp3'), instantiationMediaType=InstantiationMediaType(source=None, ref=None, version=None, annotation=None, text='Sound'), instantiationGenerations=[InstantiationGenerations(source=None, ref=None, version=None, annotation=None, text='Proxy')], instantiationDuration=InstantiationDuration(source=None, ref=None, version=None, annotation=None, text='01:36:19.032'), instantiationTracks=InstantiationTracks(source=None, ref=None, version=None, annotation=None, text='1'), instantiationChannelConfiguration=InstantiationChannelConfiguration(source=None, ref=None, version=None, annotation=None, text='Track : 2 channels'), instantiationAlternativeModes=None, instantiationEssenceTrack=[InstantiationEssenceTrack(essenceTrackType=EssenceTrackType(source=None, ref=None, version=None, annotation=None, text='Audio'), essenceTrackAspectRatio=None)], instantiationAnnotation=[InstantiationAnnotation(annotationType='organization', text='American Archive of Public Broadcasting')])], pbcoreAnnotation=[PBCoreAnnotation(source='', ref='', version='', annotation='', text='On Location', annotationType='Level of User Access'), PBCoreAnnotation(source='', ref='', version='', annotation='', text='Uncorrected', annotationType='Transcript Status'), PBCoreAnnotation(source='', ref='', version='', annotation='', text='KUT Radio', annotationType='organization')], pbcorePart=None, pbcoreExtension=None))"
      ]
     },
     "execution_count": 3,
     "metadata": {},
     "output_type": "execute_result"
    }
   ],
   "source": [
    "DIRECTORY = 'pbcore-json'\n",
    "\n",
    "with open(SCHEMA, 'r') as schema_file:\n",
    "    schema = json.load(schema_file)\n",
    "\n",
    "pb = validator_for(schema)\n",
    "\n",
    "# with open(os.path.join(DIRECTORY, 'cpb-aacip_15-29p2p5g8.json'), 'r') as f:\n",
    "# with open(os.path.join(DIRECTORY, 'cpb-aacip-15-nc5s756s32.json'), 'r') as f:\n",
    "with open(os.path.join(DIRECTORY, 'cpb-aacip-d2a727119c1.json'), 'r') as f:\n",
    "    json_data = json.load(f)\n",
    "\n",
    "# json_data\n",
    "\n",
    "# validate_json(json_data)\n",
    "# validate(json_data, schema)\n",
    "# pb.validate(json_data)\n",
    "PBCore(**json_data)"
   ]
  },
  {
   "cell_type": "code",
   "execution_count": 4,
   "id": "b1d553b3",
   "metadata": {},
   "outputs": [],
   "source": [
    "errors = []\n",
    "success = []\n",
    "for path, subdirs, files in os.walk(DIRECTORY):\n",
    "    for name in files:\n",
    "        if name.startswith('cpb-aacip') and name.endswith('.json'):\n",
    "            with open(os.path.join(path, name), 'r') as f:\n",
    "                json_data = json.load(f)\n",
    "                try:\n",
    "                    # validate(json_data, schema) # jsonschema\n",
    "                    pb.validate(json_data) # jsonschema_rs\n",
    "                    # PBCore.model_validate(json_data) # pydantic\n",
    "                    # print(f\"{name} is valid.\")\n",
    "                    success.append(name)\n",
    "                except Exception as e:\n",
    "                    print(f\"{name} is invalid: {e.message}\")\n",
    "                    errors.append((name, e.message))\n"
   ]
  },
  {
   "cell_type": "code",
   "execution_count": 5,
   "id": "529521e9",
   "metadata": {},
   "outputs": [
    {
     "data": {
      "text/plain": [
       "(4088, 0, '100.00%')"
      ]
     },
     "execution_count": 5,
     "metadata": {},
     "output_type": "execute_result"
    }
   ],
   "source": [
    "len(success), len(errors), f'{(len(success)/(len(success) + len(errors))):.2%}'"
   ]
  },
  {
   "cell_type": "code",
   "execution_count": 6,
   "id": "cecbb653",
   "metadata": {},
   "outputs": [],
   "source": [
    "mvp={\n",
    "        \"pbcoreDescriptionDocument\": {\n",
    "            \"xsi:schemaLocation\": \"http://www.example.com/schema\",\n",
    "            \"pbcoreIdentifier\": [{\"text\": \"123\", \"source\": \"example\"}],\n",
    "            \"pbcoreTitle\": [{\"text\": \"Title\"}],\n",
    "            \"pbcoreDescription\": [{\"text\": \"\"}],\n",
    "        },\n",
    "    }\n",
    "# del mvp['pbcoreDescriptionDocument']['pbcoreIdentifier'][0]['source']\n",
    "\n",
    "# pb.validate(mvp)"
   ]
  },
  {
   "cell_type": "code",
   "execution_count": 7,
   "id": "daec9103",
   "metadata": {},
   "outputs": [
    {
     "data": {
      "text/plain": [
       "PBCore(pbcoreDescriptionDocument=PBCoreDescriptionDocument(xsi_schemaLocation='http://www.example.com/schema', pbcoreAssetType=None, pbcoreAssetDate=None, pbcoreIdentifier=[PBCoreIdentifier(source='example', ref=None, version=None, annotation=None, text='123')], pbcoreTitle=[PBCoreTitle(startTime=None, endTime=None, timeAnnotation=None, source=None, ref=None, version=None, annotation=None, text='Title', titleType=None, titleTypeSource=None, titleTypeRef=None, titleTypeVersion=None, titleTypeAnnotation=None)], pbcoreSubject=None, pbcoreDescription=[PBCoreDescription(startTime=None, endTime=None, timeAnnotation=None, source=None, ref=None, version=None, annotation=None, text='', descriptionType=None, descriptionTypeSource=None, descriptionTypeRef=None, descriptionTypeVersion=None, descriptionTypeAnnotation=None, segmentType=None, segmentTypeSource=None, segmentTypeRef=None, segmentTypeVersion=None, segmentTypeAnnotation=None)], pbcoreGenre=None, pbcoreRelation=None, pbcoreCoverage=None, pbcoreAudienceLevel=None, pbcoreAudienceRating=None, pbcoreCreator=None, pbcoreContributor=None, pbcorePublisher=None, pbcoreRightsSummary=None, pbcoreInstantiation=None, pbcoreAnnotation=None, pbcorePart=None, pbcoreExtension=None))"
      ]
     },
     "execution_count": 7,
     "metadata": {},
     "output_type": "execute_result"
    }
   ],
   "source": [
    "PBCore.model_validate(mvp)"
   ]
  },
  {
   "cell_type": "code",
   "execution_count": 8,
   "id": "8a6666a9",
   "metadata": {},
   "outputs": [],
   "source": [
    "p = PBCore(**mvp)\n"
   ]
  },
  {
   "cell_type": "code",
   "execution_count": 9,
   "id": "4482c754",
   "metadata": {},
   "outputs": [
    {
     "data": {
      "text/plain": [
       "[PBCoreIdentifier(source='example', ref=None, version=None, annotation=None, text='123')]"
      ]
     },
     "execution_count": 9,
     "metadata": {},
     "output_type": "execute_result"
    }
   ],
   "source": [
    "p.pbcoreDescriptionDocument.pbcoreIdentifier\n"
   ]
  }
 ],
 "metadata": {
  "kernelspec": {
   "display_name": "pbcore-util (3.13.4)",
   "language": "python",
   "name": "python3"
  },
  "language_info": {
   "codemirror_mode": {
    "name": "ipython",
    "version": 3
   },
   "file_extension": ".py",
   "mimetype": "text/x-python",
   "name": "python",
   "nbconvert_exporter": "python",
   "pygments_lexer": "ipython3",
   "version": "3.13.4"
  }
 },
 "nbformat": 4,
 "nbformat_minor": 5
}
