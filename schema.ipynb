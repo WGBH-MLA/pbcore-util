{
 "cells": [
  {
   "cell_type": "code",
   "execution_count": 138,
   "id": "4b9d6552",
   "metadata": {},
   "outputs": [],
   "source": [
    "from jsonschema import validate, ValidationError\n",
    "from json import load\n",
    "import os\n",
    "from jsonschema_rs import validator_for\n"
   ]
  },
  {
   "cell_type": "code",
   "execution_count": 139,
   "id": "4bd11019",
   "metadata": {},
   "outputs": [],
   "source": [
    "from os import path\n",
    "import json\n",
    "SCHEMA='schemas/pbcore.schema.json'\n",
    "DIRECTORY = 'batch3'\n",
    "\n",
    "with open(SCHEMA, 'r') as schema_file:\n",
    "    schema = json.load(schema_file)\n",
    "\n",
    "pb = validator_for(schema)\n",
    "\n",
    "# with open(path.join(DIRECTORY, 'cpb-aacip_15-29p2p5g8.json'), 'r') as f:\n",
    "with open('cpb-aacip-15-nc5s756s32.json', 'r') as f:\n",
    "    json_data = json.load(f)\n",
    "\n",
    "# json_data\n",
    "\n",
    "# validate_json(json_data)\n",
    "# validate(json_data, schema)\n",
    "pb.validate(json_data)"
   ]
  },
  {
   "cell_type": "code",
   "execution_count": 140,
   "id": "b1d553b3",
   "metadata": {},
   "outputs": [],
   "source": [
    "errors = []\n",
    "success = []\n",
    "for path, subdirs, files in os.walk(DIRECTORY):\n",
    "    for name in files:\n",
    "        if name.startswith('cpb-aacip') and name.endswith('.json'):\n",
    "            with open(os.path.join(path, name), 'r') as f:\n",
    "                json_data = json.load(f)\n",
    "                try:\n",
    "                    # validate(json_data, schema)\n",
    "                    pb.validate(json_data)\n",
    "                    # print(f\"{name} is valid.\")\n",
    "                    success.append(name)\n",
    "                except Exception as e:\n",
    "                    print(f\"{name} is invalid: {e.message}\")\n",
    "                    errors.append((name, e.message))\n"
   ]
  },
  {
   "cell_type": "code",
   "execution_count": 141,
   "id": "529521e9",
   "metadata": {},
   "outputs": [
    {
     "data": {
      "text/plain": [
       "(1655, 0)"
      ]
     },
     "execution_count": 141,
     "metadata": {},
     "output_type": "execute_result"
    }
   ],
   "source": [
    "len(success), len(errors)"
   ]
  }
 ],
 "metadata": {
  "kernelspec": {
   "display_name": "pbcore-util (3.13.4)",
   "language": "python",
   "name": "python3"
  },
  "language_info": {
   "codemirror_mode": {
    "name": "ipython",
    "version": 3
   },
   "file_extension": ".py",
   "mimetype": "text/x-python",
   "name": "python",
   "nbconvert_exporter": "python",
   "pygments_lexer": "ipython3",
   "version": "3.13.4"
  }
 },
 "nbformat": 4,
 "nbformat_minor": 5
}
