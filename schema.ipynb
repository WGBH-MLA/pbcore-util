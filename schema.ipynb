{
 "cells": [
  {
   "cell_type": "code",
   "execution_count": 1,
   "id": "4b9d6552",
   "metadata": {},
   "outputs": [],
   "source": [
    "import os\n",
    "from jsonschema_rs import validator_for\n",
    "import json\n",
    "\n",
    "from jsonschema import validate\n"
   ]
  },
  {
   "cell_type": "code",
   "execution_count": 2,
   "id": "75176f55",
   "metadata": {},
   "outputs": [],
   "source": [
    "from pbcore.models import PBCore\n",
    "SCHEMA='schemas/pbcore.schema.json'\n",
    "\n",
    "with open(SCHEMA, 'w') as f:\n",
    "    f.write(json.dumps(PBCore.model_json_schema(), indent=2))"
   ]
  },
  {
   "cell_type": "code",
   "execution_count": 3,
   "id": "4bd11019",
   "metadata": {},
   "outputs": [
    {
     "data": {
      "text/plain": [
       "PBCore(pbcoreDescriptionDocument=PBCoreDescriptionDocument(pbcoreAssetType=[PBCoreAssetType(source=None, ref=None, version=None, annotation=None, text='Episode')], pbcoreAssetDate=[PBCoreAssetDate(dateType='Broadcast', source=None, ref=None, version=None, annotation=None, text='2008-08-12'), PBCoreAssetDate(dateType='Created', source=None, ref=None, version=None, annotation=None, text='2008-08-05')], pbcoreIdentifier=[PBCoreIdentifier(source='Sony Ci', ref=None, version=None, annotation=None, text='7cf79418faca47f0a8a33b9c0b6c5bba'), PBCoreIdentifier(source='http://americanarchiveinventory.org', ref=None, version=None, annotation=None, text='cpb-aacip-357535dd205'), PBCoreIdentifier(source='Local Identifier', ref=None, version=None, annotation=None, text='CTTC2833')], pbcoreTitle=[PBCoreTitle(startTime=None, endTime=None, timeAnnotation=None, source=None, ref=None, version=None, annotation=None, text='Connecting the Community', titleType='Series', titleTypeSource=None, titleTypeRef=None, titleTypeVersion=None, titleTypeAnnotation=None), PBCoreTitle(startTime=None, endTime=None, timeAnnotation=None, source=None, ref=None, version=None, annotation=None, text='2833', titleType='Episode Number', titleTypeSource=None, titleTypeRef=None, titleTypeVersion=None, titleTypeAnnotation=None), PBCoreTitle(startTime=None, endTime=None, timeAnnotation=None, source=None, ref=None, version=None, annotation=None, text='Increased Incidence of HIV', titleType='Episode', titleTypeSource=None, titleTypeRef=None, titleTypeVersion=None, titleTypeAnnotation=None)], pbcoreSubject=[PBCoreSubject(startTime=None, endTime=None, timeAnnotation=None, source=None, ref=None, version=None, annotation=None, text='HIV (Viruses)', subjectType=None, subjectTypeSource=None, subjectTypeRef=None, subjectTypeVersion=None, subjectTypeAnnotation=None)], pbcoreDescription=[PBCoreDescription(startTime=None, endTime=None, timeAnnotation=None, source=None, ref=None, version=None, annotation=None, text='A weekly, half-hour public affairs show.', descriptionType='Series', descriptionTypeSource=None, descriptionTypeRef=None, descriptionTypeVersion=None, descriptionTypeAnnotation=None, segmentType=None, segmentTypeSource=None, segmentTypeRef=None, segmentTypeVersion=None, segmentTypeAnnotation=None)], pbcoreGenre=[PBCoreGenre(startTime=None, endTime=None, timeAnnotation=None, source='AAPB Format Genre', ref=None, version=None, annotation='genre', text='Interview')], pbcoreRelation=None, pbcoreCoverage=None, pbcoreAudienceLevel=None, pbcoreAudienceRating=None, pbcoreCreator=[PBCoreCreator(creator=Creator(startTime=None, endTime=None, timeAnnotation=None, affiliation=None, affiliationSource=None, affiliationRef=None, affiliationVersion=None, affiliationAnnotation=None, source=None, ref=None, version=None, annotation=None, text='WSRE'), creatorRole=[CreatorRole(source=None, ref=None, version=None, annotation=None, text='Producing Organization')])], pbcoreContributor=[PBCoreContributor(contributor=Contributor(startTime=None, endTime=None, timeAnnotation=None, affiliation=None, affiliationSource=None, affiliationRef=None, affiliationVersion=None, affiliationAnnotation=None, source=None, ref=None, version=None, annotation=None, text='Doug Landreth'), contributorRole=[ContributorRole(source=None, ref=None, version=None, annotation=None, text='Director', portrayal=None)])], pbcorePublisher=None, pbcoreRightsSummary=[PBCoreRightsSummary(startTime=None, endTime=None, timeAnnotation=None, rightsSummary=[RightsSummary(source=None, ref=None, version=None, annotation=None, text='Licensed under a Creative Commons CC0 1.0 Universal License (\"no rights reserved\").')], rightsLink=None, rightsEmbedded=None), PBCoreRightsSummary(startTime=None, endTime=None, timeAnnotation=None, rightsSummary=None, rightsLink=[RightsLink(source=None, ref=None, version=None, annotation=None, text='http://rightsstatements.org/vocab/InC/1.0/')], rightsEmbedded=None)], pbcoreInstantiation=[PBCoreInstantiation(startTime=None, endTime=None, timeAnnotation=None, instantiationIdentifier=[InstantiationIdentifier(source='Filename', ref=None, version=None, annotation=None, text='cpb-aacip-9932ba1009b'), InstantiationIdentifier(source='unknown', ref=None, version=None, annotation=None, text='BB-299')], instantiationDate=[InstantiationDate(dateType='digitized', source=None, ref=None, version=None, annotation=None, text='2019-11-08')], instantiationDimensions=None, instantiationPhysical=InstantiationPhysical(source=None, ref=None, version=None, annotation=None, text='Betacam: SP'), instantiationDigital=None, instantiationStandard=InstantiationStandard(source=None, ref=None, version=None, annotation=None, text='NTSC', profile=None), instantiationLocation=InstantiationLocation(source=None, ref=None, version=None, annotation=None, text='WSRE Storage'), instantiationMediaType=InstantiationMediaType(source=None, ref=None, version=None, annotation=None, text='Moving Image'), instantiationGenerations=None, instantiationFileSize=None, instantiationTimeStart=None, instantiationDuration=InstantiationDuration(source=None, ref=None, version=None, annotation=None, text='00:28:50'), instantiationDataRate=None, instantiationColors=None, instantiationTracks=None, instantiationChannelConfiguration=None, instantiationLanguage=None, instantiationAlternativeModes=None, instantiationEssenceTrack=None, instantiationRelation=None, instantiationRights=None, instantiationAnnotation=[InstantiationAnnotation(source=None, ref=None, version=None, annotation=None, text='WSRE', annotationType='organization')]), PBCoreInstantiation(startTime=None, endTime=None, timeAnnotation=None, instantiationIdentifier=[InstantiationIdentifier(source='unknown', ref=None, version=None, annotation=None, text='cpb-aacip-3c83bd8a332'), InstantiationIdentifier(source='md5', ref=None, version=None, annotation=None, text='6ffd01dedd476a2c445680f6160f021a')], instantiationDate=[InstantiationDate(dateType=None, source=None, ref=None, version=None, annotation=None, text='2019-11-22T17:15:20Z'), InstantiationDate(dateType=None, source=None, ref=None, version=None, annotation=None, text='2019-11-22T17:03:23Z')], instantiationDimensions=None, instantiationPhysical=None, instantiationDigital=InstantiationDigital(source=None, ref=None, version=None, annotation=None, text='video/mp4'), instantiationStandard=None, instantiationLocation=InstantiationLocation(source=None, ref=None, version=None, annotation=None, text='/Volumes/Holddrive/Melissa_proxies/cpb-aacip-357535dd205.mp4'), instantiationMediaType=InstantiationMediaType(source=None, ref=None, version=None, annotation=None, text='Moving Image'), instantiationGenerations=[InstantiationGenerations(source=None, ref=None, version=None, annotation=None, text='Proxy')], instantiationFileSize=InstantiationFileSize(unitsOfMeasure=None, source=None, ref=None, version=None, annotation=None, text='184027212'), instantiationTimeStart=None, instantiationDuration=InstantiationDuration(source=None, ref=None, version=None, annotation=None, text='00:28:49.762'), instantiationDataRate=None, instantiationColors=None, instantiationTracks=InstantiationTracks(source=None, ref=None, version=None, annotation=None, text='2'), instantiationChannelConfiguration=None, instantiationLanguage=None, instantiationAlternativeModes=None, instantiationEssenceTrack=[InstantiationEssenceTrack(essenceTrackType=EssenceTrackType(source=None, ref=None, version=None, annotation=None, text='Audio'), essenceTrackIdentifier=[EssenceTrackIdentifier(source=None, ref=None, version=None, annotation=None, text='2'), EssenceTrackIdentifier(source=None, ref=None, version=None, annotation=None, text='0'), EssenceTrackIdentifier(source=None, ref=None, version=None, annotation=None, text='1')], essenceTrackStandard=None, essenceTrackEncoding=EssenceTrackEncoding(source=None, ref=None, version=None, annotation=None, text='AAC'), essenceTrackDataRate=EssenceTrackDataRate(unitsOfMeasure='kb/s', source=None, ref=None, version=None, annotation=None, text='128754'), essenceTrackFrameRate=None, essenceTrackPlaybackSpeed=None, essenceTrackSamplingRate=None, essenceTrackBitDepth=None, essenceTrackFrameSize=None, essenceTrackAspectRatio=None, essenceTrackTimeStart=None, essenceTrackDuration=EssenceTrackDuration(source=None, ref=None, version=None, annotation=None, text='00:28:49.750'), essenceTrackLanguage=None, essenceTrackAnnotation=[EssenceTrackAnnotation(source=None, ref=None, version=None, annotation=None, text='-21', annotationType=None), EssenceTrackAnnotation(source=None, ref=None, version=None, annotation=None, text='83028000', annotationType=None), EssenceTrackAnnotation(source=None, ref=None, version=None, annotation=None, text='81083', annotationType=None), EssenceTrackAnnotation(source=None, ref=None, version=None, annotation=None, text='Lossy', annotationType=None), EssenceTrackAnnotation(source=None, ref=None, version=None, annotation=None, text='1024', annotationType=None), EssenceTrackAnnotation(source=None, ref=None, version=None, annotation=None, text='2', annotationType=None), EssenceTrackAnnotation(source=None, ref=None, version=None, annotation=None, text='L R', annotationType=None), EssenceTrackAnnotation(source=None, ref=None, version=None, annotation=None, text='No (Explicit)', annotationType=None), EssenceTrackAnnotation(source=None, ref=None, version=None, annotation=None, text='27839213', annotationType=None), EssenceTrackAnnotation(source=None, ref=None, version=None, annotation=None, text='1', annotationType=None), EssenceTrackAnnotation(source=None, ref=None, version=None, annotation=None, text='Yes', annotationType=None)], essenceTrackExtension=None), InstantiationEssenceTrack(essenceTrackType=EssenceTrackType(source=None, ref=None, version=None, annotation=None, text='Video'), essenceTrackIdentifier=[EssenceTrackIdentifier(source=None, ref=None, version=None, annotation=None, text='0'), EssenceTrackIdentifier(source=None, ref=None, version=None, annotation=None, text='1')], essenceTrackStandard=None, essenceTrackEncoding=EssenceTrackEncoding(source=None, ref=None, version=None, annotation=None, text='AVC'), essenceTrackDataRate=EssenceTrackDataRate(unitsOfMeasure='kb/s', source=None, ref=None, version=None, annotation=None, text='711000'), essenceTrackFrameRate=EssenceTrackFrameRate(unitsOfMeasure=None, source=None, ref=None, version=None, annotation=None, text='29.970'), essenceTrackPlaybackSpeed=None, essenceTrackSamplingRate=None, essenceTrackBitDepth=EssenceTrackBitDepth(unitsOfMeasure=None, source=None, ref=None, version=None, annotation=None, text='8'), essenceTrackFrameSize=EssenceTrackFrameSize(unitsOfMeasure=None, source=None, ref=None, version=None, annotation=None, text='[\"480\"] x [\"360\"]'), essenceTrackAspectRatio=EssenceTrackAspectRatio(unitsOfMeasure=None, source=None, ref=None, version=None, annotation=None, text='1.333'), essenceTrackTimeStart=None, essenceTrackDuration=EssenceTrackDuration(source=None, ref=None, version=None, annotation=None, text='00:28:49.762'), essenceTrackLanguage=None, essenceTrackAnnotation=[EssenceTrackAnnotation(source=None, ref=None, version=None, annotation=None, text='Yes', annotationType=None), EssenceTrackAnnotation(source=None, ref=None, version=None, annotation=None, text='VFR', annotationType=None), EssenceTrackAnnotation(source=None, ref=None, version=None, annotation=None, text='4', annotationType=None), EssenceTrackAnnotation(source=None, ref=None, version=None, annotation=None, text='Progressive', annotationType=None), EssenceTrackAnnotation(source=None, ref=None, version=None, annotation=None, text='360', annotationType=None), EssenceTrackAnnotation(source=None, ref=None, version=None, annotation=None, text='368', annotationType=None), EssenceTrackAnnotation(source=None, ref=None, version=None, annotation=None, text='1001', annotationType=None), EssenceTrackAnnotation(source=None, ref=None, version=None, annotation=None, text='4:2:0', annotationType=None), EssenceTrackAnnotation(source=None, ref=None, version=None, annotation=None, text='PPF', annotationType=None), EssenceTrackAnnotation(source=None, ref=None, version=None, annotation=None, text='cabac=1 / ref=3 / deblock=1:0:0 / analyse=0x3:0x113 / me=hex / subme=7 / psy=1 / psy_rd=1.00:0.00 / mixed_ref=1 / me_range=16 / chroma_me=1 / trellis=1 / 8x8dct=1 / cqm=0 / deadzone=21,11 / fast_pskip=1 / chroma_qp_offset=-2 / threads=6 / lookahead_threads=1 / sliced_threads=0 / nr=0 / decimate=1 / interlaced=0 / bluray_compat=0 / constrained_intra=0 / bframes=3 / b_pyramid=2 / b_adapt=1 / b_bias=0 / direct=1 / weightb=1 / open_gop=0 / weightp=2 / keyint=250 / keyint_min=25 / scenecut=40 / intra_refresh=0 / rc_lookahead=40 / rc=abr / mbtree=1 / bitrate=711 / ratetol=1.0 / qcomp=0.60 / qpmin=0 / qpmax=69 / qpstep=4 / ip_ratio=1.40 / aq=1:1.00', annotationType=None), EssenceTrackAnnotation(source=None, ref=None, version=None, annotation=None, text='1.000', annotationType=None), EssenceTrackAnnotation(source=None, ref=None, version=None, annotation=None, text='core 155 r2917 0a84d98', annotationType=None), EssenceTrackAnnotation(source=None, ref=None, version=None, annotation=None, text='154285413', annotationType=None), EssenceTrackAnnotation(source=None, ref=None, version=None, annotation=None, text='30000', annotationType=None), EssenceTrackAnnotation(source=None, ref=None, version=None, annotation=None, text='YUV', annotationType=None), EssenceTrackAnnotation(source=None, ref=None, version=None, annotation=None, text='0.000', annotationType=None), EssenceTrackAnnotation(source=None, ref=None, version=None, annotation=None, text='480', annotationType=None), EssenceTrackAnnotation(source=None, ref=None, version=None, annotation=None, text='51841', annotationType=None), EssenceTrackAnnotation(source=None, ref=None, version=None, annotation=None, text='x264', annotationType=None), EssenceTrackAnnotation(source=None, ref=None, version=None, annotation=None, text='CABAC / 4 Ref Frames', annotationType=None)], essenceTrackExtension=None)], instantiationRelation=None, instantiationRights=None, instantiationAnnotation=[InstantiationAnnotation(source=None, ref=None, version=None, annotation=None, text='American Archive of Public Broadcasting', annotationType='organization')])], pbcoreAnnotation=[PBCoreAnnotation(source=None, ref=None, version=None, annotation=None, text='https://s3.amazonaws.com/americanarchive.org/transcripts/cpb-aacip-357535dd205/cpb-aacip-357535dd205-transcript.json', annotationType='Transcript URL'), PBCoreAnnotation(source=None, ref=None, version=None, annotation=None, text='Subjects are taken from the Library of Congress Subject Headings (LCSH).', annotationType=None), PBCoreAnnotation(source='', ref='', version='', annotation='', text='Online Reading Room', annotationType='Level of User Access'), PBCoreAnnotation(source='', ref='', version='', annotation='', text='local-programs-from-wsre', annotationType='special_collections'), PBCoreAnnotation(source='', ref='', version='', annotation='', text='Uncorrected', annotationType='Transcript Status')], pbcorePart=None, pbcoreExtension=None, xsi_schemaLocation='http://www.pbcore.org/PBCore/PBCoreNamespace.html http://www.pbcore.org/xsd/pbcore-2.1.xsd'), pbcoreCollection=None, pbcoreInstantiationDocument=None)"
      ]
     },
     "execution_count": 3,
     "metadata": {},
     "output_type": "execute_result"
    }
   ],
   "source": [
    "DIRECTORY = 'pbcore-json'\n",
    "\n",
    "with open(SCHEMA, 'r') as schema_file:\n",
    "    schema = json.load(schema_file)\n",
    "\n",
    "pb = validator_for(schema)\n",
    "\n",
    "# with open(os.path.join(DIRECTORY, 'cpb-aacip_15-29p2p5g8.json'), 'r') as f:\n",
    "# with open(os.path.join(DIRECTORY, 'cpb-aacip-15-nc5s756s32.json'), 'r') as f:\n",
    "# with open(os.path.join(DIRECTORY, 'cpb-aacip-d2a727119c1.json'), 'r') as f:\n",
    "# with open(os.path.join(DIRECTORY, 'cpb-aacip_298-83kwhm31.json'), 'r') as f:\n",
    "with open(os.path.join(DIRECTORY, 'cpb-aacip-357535dd205.json'), 'r') as f:\n",
    "    \n",
    "    json_data = json.load(f)\n",
    "\n",
    "# json_data\n",
    "\n",
    "# validate_json(json_data)\n",
    "# validate(json_data, schema)\n",
    "# pb.validate(json_data)\n",
    "PBCore(**json_data)"
   ]
  },
  {
   "cell_type": "code",
   "execution_count": 14,
   "id": "b1d553b3",
   "metadata": {},
   "outputs": [],
   "source": [
    "errors = []\n",
    "success = []\n",
    "for path, subdirs, files in os.walk(DIRECTORY):\n",
    "    for name in files:\n",
    "        if name.startswith('cpb-aacip') and name.endswith('.json'):\n",
    "            with open(os.path.join(path, name), 'r') as f:\n",
    "                json_data = json.load(f)\n",
    "                try:\n",
    "                    # validate(json_data, schema) # jsonschema\n",
    "                    pb.validate(json_data) # jsonschema_rs\n",
    "                    # PBCore.model_validate(json_data) # pydantic\n",
    "                    # print(f\"{name} is valid.\")\n",
    "                    success.append(name)\n",
    "                except ValueError as e:\n",
    "                    print(f\"{name} is invalid: {e}\")\n",
    "                    errors.append((name, e))\n",
    "                except Exception as e:\n",
    "                    print(f\"Error processing {name}: {e}\")\n",
    "                    errors.append((name, e))\n"
   ]
  },
  {
   "cell_type": "code",
   "execution_count": 15,
   "id": "529521e9",
   "metadata": {},
   "outputs": [
    {
     "data": {
      "text/plain": [
       "(18387, 0, '100.00%')"
      ]
     },
     "execution_count": 15,
     "metadata": {},
     "output_type": "execute_result"
    }
   ],
   "source": [
    "len(success), len(errors), f'{(len(success)/(len(success) + len(errors))):.2%}'"
   ]
  },
  {
   "cell_type": "code",
   "execution_count": 16,
   "id": "cecbb653",
   "metadata": {},
   "outputs": [],
   "source": [
    "mvp={\n",
    "        \"pbcoreDescriptionDocument\": {\n",
    "            \"xsi:schemaLocation\": \"http://www.example.com/schema\",\n",
    "            \"pbcoreIdentifier\": [{\"text\": \"123\", \"source\": \"example\"}],\n",
    "            \"pbcoreTitle\": [{\"text\": \"Title\"}],\n",
    "            \"pbcoreDescription\": [{\"text\": \"\"}],\n",
    "        },\n",
    "    }\n",
    "# del mvp['pbcoreDescriptionDocument']['pbcoreIdentifier'][0]['source']\n",
    "\n",
    "# pb.validate(mvp)"
   ]
  },
  {
   "cell_type": "code",
   "execution_count": 17,
   "id": "daec9103",
   "metadata": {},
   "outputs": [
    {
     "data": {
      "text/plain": [
       "PBCore(pbcoreDescriptionDocument=PBCoreDescriptionDocument(pbcoreAssetType=None, pbcoreAssetDate=None, pbcoreIdentifier=[PBCoreIdentifier(source='example', ref=None, version=None, annotation=None, text='123')], pbcoreTitle=[PBCoreTitle(startTime=None, endTime=None, timeAnnotation=None, source=None, ref=None, version=None, annotation=None, text='Title', titleType=None, titleTypeSource=None, titleTypeRef=None, titleTypeVersion=None, titleTypeAnnotation=None)], pbcoreSubject=None, pbcoreDescription=[PBCoreDescription(startTime=None, endTime=None, timeAnnotation=None, source=None, ref=None, version=None, annotation=None, text='', descriptionType=None, descriptionTypeSource=None, descriptionTypeRef=None, descriptionTypeVersion=None, descriptionTypeAnnotation=None, segmentType=None, segmentTypeSource=None, segmentTypeRef=None, segmentTypeVersion=None, segmentTypeAnnotation=None)], pbcoreGenre=None, pbcoreRelation=None, pbcoreCoverage=None, pbcoreAudienceLevel=None, pbcoreAudienceRating=None, pbcoreCreator=None, pbcoreContributor=None, pbcorePublisher=None, pbcoreRightsSummary=None, pbcoreInstantiation=None, pbcoreAnnotation=None, pbcorePart=None, pbcoreExtension=None, xsi_schemaLocation='http://www.example.com/schema'), pbcoreCollection=None, pbcoreInstantiationDocument=None)"
      ]
     },
     "execution_count": 17,
     "metadata": {},
     "output_type": "execute_result"
    }
   ],
   "source": [
    "PBCore.model_validate(mvp)"
   ]
  },
  {
   "cell_type": "code",
   "execution_count": 18,
   "id": "8a6666a9",
   "metadata": {},
   "outputs": [
    {
     "data": {
      "text/html": [
       "<pre style=\"white-space:pre;overflow-x:auto;line-height:normal;font-family:Menlo,'DejaVu Sans Mono',consolas,'Courier New',monospace\"><span style=\"color: #800080; text-decoration-color: #800080; font-weight: bold\">PBCore</span><span style=\"font-weight: bold\">(</span>\n",
       "    <span style=\"color: #808000; text-decoration-color: #808000\">pbcoreDescriptionDocument</span>=<span style=\"color: #800080; text-decoration-color: #800080; font-weight: bold\">PBCoreDescriptionDocument</span><span style=\"font-weight: bold\">(</span>\n",
       "        <span style=\"color: #808000; text-decoration-color: #808000\">pbcoreAssetType</span>=<span style=\"color: #800080; text-decoration-color: #800080; font-style: italic\">None</span>,\n",
       "        <span style=\"color: #808000; text-decoration-color: #808000\">pbcoreAssetDate</span>=<span style=\"color: #800080; text-decoration-color: #800080; font-style: italic\">None</span>,\n",
       "        <span style=\"color: #808000; text-decoration-color: #808000\">pbcoreIdentifier</span>=<span style=\"font-weight: bold\">[</span>\n",
       "            <span style=\"color: #800080; text-decoration-color: #800080; font-weight: bold\">PBCoreIdentifier</span><span style=\"font-weight: bold\">(</span><span style=\"color: #808000; text-decoration-color: #808000\">source</span>=<span style=\"color: #008000; text-decoration-color: #008000\">'validator'</span>, <span style=\"color: #808000; text-decoration-color: #808000\">ref</span>=<span style=\"color: #800080; text-decoration-color: #800080; font-style: italic\">None</span>, <span style=\"color: #808000; text-decoration-color: #808000\">version</span>=<span style=\"color: #800080; text-decoration-color: #800080; font-style: italic\">None</span>, <span style=\"color: #808000; text-decoration-color: #808000\">annotation</span>=<span style=\"color: #800080; text-decoration-color: #800080; font-style: italic\">None</span>, <span style=\"color: #808000; text-decoration-color: #808000\">text</span>=<span style=\"color: #008000; text-decoration-color: #008000\">'123'</span><span style=\"font-weight: bold\">)</span>\n",
       "        <span style=\"font-weight: bold\">]</span>,\n",
       "        <span style=\"color: #808000; text-decoration-color: #808000\">pbcoreTitle</span>=<span style=\"font-weight: bold\">[</span>\n",
       "            <span style=\"color: #800080; text-decoration-color: #800080; font-weight: bold\">PBCoreTitle</span><span style=\"font-weight: bold\">(</span>\n",
       "                <span style=\"color: #808000; text-decoration-color: #808000\">startTime</span>=<span style=\"color: #800080; text-decoration-color: #800080; font-style: italic\">None</span>,\n",
       "                <span style=\"color: #808000; text-decoration-color: #808000\">endTime</span>=<span style=\"color: #800080; text-decoration-color: #800080; font-style: italic\">None</span>,\n",
       "                <span style=\"color: #808000; text-decoration-color: #808000\">timeAnnotation</span>=<span style=\"color: #800080; text-decoration-color: #800080; font-style: italic\">None</span>,\n",
       "                <span style=\"color: #808000; text-decoration-color: #808000\">source</span>=<span style=\"color: #800080; text-decoration-color: #800080; font-style: italic\">None</span>,\n",
       "                <span style=\"color: #808000; text-decoration-color: #808000\">ref</span>=<span style=\"color: #800080; text-decoration-color: #800080; font-style: italic\">None</span>,\n",
       "                <span style=\"color: #808000; text-decoration-color: #808000\">version</span>=<span style=\"color: #800080; text-decoration-color: #800080; font-style: italic\">None</span>,\n",
       "                <span style=\"color: #808000; text-decoration-color: #808000\">annotation</span>=<span style=\"color: #800080; text-decoration-color: #800080; font-style: italic\">None</span>,\n",
       "                <span style=\"color: #808000; text-decoration-color: #808000\">text</span>=<span style=\"color: #008000; text-decoration-color: #008000\">'Title'</span>,\n",
       "                <span style=\"color: #808000; text-decoration-color: #808000\">titleType</span>=<span style=\"color: #800080; text-decoration-color: #800080; font-style: italic\">None</span>,\n",
       "                <span style=\"color: #808000; text-decoration-color: #808000\">titleTypeSource</span>=<span style=\"color: #800080; text-decoration-color: #800080; font-style: italic\">None</span>,\n",
       "                <span style=\"color: #808000; text-decoration-color: #808000\">titleTypeRef</span>=<span style=\"color: #800080; text-decoration-color: #800080; font-style: italic\">None</span>,\n",
       "                <span style=\"color: #808000; text-decoration-color: #808000\">titleTypeVersion</span>=<span style=\"color: #800080; text-decoration-color: #800080; font-style: italic\">None</span>,\n",
       "                <span style=\"color: #808000; text-decoration-color: #808000\">titleTypeAnnotation</span>=<span style=\"color: #800080; text-decoration-color: #800080; font-style: italic\">None</span>\n",
       "            <span style=\"font-weight: bold\">)</span>\n",
       "        <span style=\"font-weight: bold\">]</span>,\n",
       "        <span style=\"color: #808000; text-decoration-color: #808000\">pbcoreSubject</span>=<span style=\"color: #800080; text-decoration-color: #800080; font-style: italic\">None</span>,\n",
       "        <span style=\"color: #808000; text-decoration-color: #808000\">pbcoreDescription</span>=<span style=\"font-weight: bold\">[</span>\n",
       "            <span style=\"color: #800080; text-decoration-color: #800080; font-weight: bold\">PBCoreDescription</span><span style=\"font-weight: bold\">(</span>\n",
       "                <span style=\"color: #808000; text-decoration-color: #808000\">startTime</span>=<span style=\"color: #800080; text-decoration-color: #800080; font-style: italic\">None</span>,\n",
       "                <span style=\"color: #808000; text-decoration-color: #808000\">endTime</span>=<span style=\"color: #800080; text-decoration-color: #800080; font-style: italic\">None</span>,\n",
       "                <span style=\"color: #808000; text-decoration-color: #808000\">timeAnnotation</span>=<span style=\"color: #800080; text-decoration-color: #800080; font-style: italic\">None</span>,\n",
       "                <span style=\"color: #808000; text-decoration-color: #808000\">source</span>=<span style=\"color: #800080; text-decoration-color: #800080; font-style: italic\">None</span>,\n",
       "                <span style=\"color: #808000; text-decoration-color: #808000\">ref</span>=<span style=\"color: #800080; text-decoration-color: #800080; font-style: italic\">None</span>,\n",
       "                <span style=\"color: #808000; text-decoration-color: #808000\">version</span>=<span style=\"color: #800080; text-decoration-color: #800080; font-style: italic\">None</span>,\n",
       "                <span style=\"color: #808000; text-decoration-color: #808000\">annotation</span>=<span style=\"color: #800080; text-decoration-color: #800080; font-style: italic\">None</span>,\n",
       "                <span style=\"color: #808000; text-decoration-color: #808000\">text</span>=<span style=\"color: #008000; text-decoration-color: #008000\">''</span>,\n",
       "                <span style=\"color: #808000; text-decoration-color: #808000\">descriptionType</span>=<span style=\"color: #800080; text-decoration-color: #800080; font-style: italic\">None</span>,\n",
       "                <span style=\"color: #808000; text-decoration-color: #808000\">descriptionTypeSource</span>=<span style=\"color: #800080; text-decoration-color: #800080; font-style: italic\">None</span>,\n",
       "                <span style=\"color: #808000; text-decoration-color: #808000\">descriptionTypeRef</span>=<span style=\"color: #800080; text-decoration-color: #800080; font-style: italic\">None</span>,\n",
       "                <span style=\"color: #808000; text-decoration-color: #808000\">descriptionTypeVersion</span>=<span style=\"color: #800080; text-decoration-color: #800080; font-style: italic\">None</span>,\n",
       "                <span style=\"color: #808000; text-decoration-color: #808000\">descriptionTypeAnnotation</span>=<span style=\"color: #800080; text-decoration-color: #800080; font-style: italic\">None</span>,\n",
       "                <span style=\"color: #808000; text-decoration-color: #808000\">segmentType</span>=<span style=\"color: #800080; text-decoration-color: #800080; font-style: italic\">None</span>,\n",
       "                <span style=\"color: #808000; text-decoration-color: #808000\">segmentTypeSource</span>=<span style=\"color: #800080; text-decoration-color: #800080; font-style: italic\">None</span>,\n",
       "                <span style=\"color: #808000; text-decoration-color: #808000\">segmentTypeRef</span>=<span style=\"color: #800080; text-decoration-color: #800080; font-style: italic\">None</span>,\n",
       "                <span style=\"color: #808000; text-decoration-color: #808000\">segmentTypeVersion</span>=<span style=\"color: #800080; text-decoration-color: #800080; font-style: italic\">None</span>,\n",
       "                <span style=\"color: #808000; text-decoration-color: #808000\">segmentTypeAnnotation</span>=<span style=\"color: #800080; text-decoration-color: #800080; font-style: italic\">None</span>\n",
       "            <span style=\"font-weight: bold\">)</span>\n",
       "        <span style=\"font-weight: bold\">]</span>,\n",
       "        <span style=\"color: #808000; text-decoration-color: #808000\">pbcoreGenre</span>=<span style=\"color: #800080; text-decoration-color: #800080; font-style: italic\">None</span>,\n",
       "        <span style=\"color: #808000; text-decoration-color: #808000\">pbcoreRelation</span>=<span style=\"color: #800080; text-decoration-color: #800080; font-style: italic\">None</span>,\n",
       "        <span style=\"color: #808000; text-decoration-color: #808000\">pbcoreCoverage</span>=<span style=\"color: #800080; text-decoration-color: #800080; font-style: italic\">None</span>,\n",
       "        <span style=\"color: #808000; text-decoration-color: #808000\">pbcoreAudienceLevel</span>=<span style=\"color: #800080; text-decoration-color: #800080; font-style: italic\">None</span>,\n",
       "        <span style=\"color: #808000; text-decoration-color: #808000\">pbcoreAudienceRating</span>=<span style=\"color: #800080; text-decoration-color: #800080; font-style: italic\">None</span>,\n",
       "        <span style=\"color: #808000; text-decoration-color: #808000\">pbcoreCreator</span>=<span style=\"color: #800080; text-decoration-color: #800080; font-style: italic\">None</span>,\n",
       "        <span style=\"color: #808000; text-decoration-color: #808000\">pbcoreContributor</span>=<span style=\"color: #800080; text-decoration-color: #800080; font-style: italic\">None</span>,\n",
       "        <span style=\"color: #808000; text-decoration-color: #808000\">pbcorePublisher</span>=<span style=\"color: #800080; text-decoration-color: #800080; font-style: italic\">None</span>,\n",
       "        <span style=\"color: #808000; text-decoration-color: #808000\">pbcoreRightsSummary</span>=<span style=\"color: #800080; text-decoration-color: #800080; font-style: italic\">None</span>,\n",
       "        <span style=\"color: #808000; text-decoration-color: #808000\">pbcoreInstantiation</span>=<span style=\"color: #800080; text-decoration-color: #800080; font-style: italic\">None</span>,\n",
       "        <span style=\"color: #808000; text-decoration-color: #808000\">pbcoreAnnotation</span>=<span style=\"color: #800080; text-decoration-color: #800080; font-style: italic\">None</span>,\n",
       "        <span style=\"color: #808000; text-decoration-color: #808000\">pbcorePart</span>=<span style=\"color: #800080; text-decoration-color: #800080; font-style: italic\">None</span>,\n",
       "        <span style=\"color: #808000; text-decoration-color: #808000\">pbcoreExtension</span>=<span style=\"color: #800080; text-decoration-color: #800080; font-style: italic\">None</span>,\n",
       "        <span style=\"color: #808000; text-decoration-color: #808000\">xsi_schemaLocation</span>=<span style=\"color: #008000; text-decoration-color: #008000\">'http://www.example.com/schema'</span>\n",
       "    <span style=\"font-weight: bold\">)</span>,\n",
       "    <span style=\"color: #808000; text-decoration-color: #808000\">pbcoreCollection</span>=<span style=\"color: #800080; text-decoration-color: #800080; font-style: italic\">None</span>,\n",
       "    <span style=\"color: #808000; text-decoration-color: #808000\">pbcoreInstantiationDocument</span>=<span style=\"color: #800080; text-decoration-color: #800080; font-style: italic\">None</span>\n",
       "<span style=\"font-weight: bold\">)</span>\n",
       "</pre>\n"
      ],
      "text/plain": [
       "\u001b[1;35mPBCore\u001b[0m\u001b[1m(\u001b[0m\n",
       "    \u001b[33mpbcoreDescriptionDocument\u001b[0m=\u001b[1;35mPBCoreDescriptionDocument\u001b[0m\u001b[1m(\u001b[0m\n",
       "        \u001b[33mpbcoreAssetType\u001b[0m=\u001b[3;35mNone\u001b[0m,\n",
       "        \u001b[33mpbcoreAssetDate\u001b[0m=\u001b[3;35mNone\u001b[0m,\n",
       "        \u001b[33mpbcoreIdentifier\u001b[0m=\u001b[1m[\u001b[0m\n",
       "            \u001b[1;35mPBCoreIdentifier\u001b[0m\u001b[1m(\u001b[0m\u001b[33msource\u001b[0m=\u001b[32m'validator'\u001b[0m, \u001b[33mref\u001b[0m=\u001b[3;35mNone\u001b[0m, \u001b[33mversion\u001b[0m=\u001b[3;35mNone\u001b[0m, \u001b[33mannotation\u001b[0m=\u001b[3;35mNone\u001b[0m, \u001b[33mtext\u001b[0m=\u001b[32m'123'\u001b[0m\u001b[1m)\u001b[0m\n",
       "        \u001b[1m]\u001b[0m,\n",
       "        \u001b[33mpbcoreTitle\u001b[0m=\u001b[1m[\u001b[0m\n",
       "            \u001b[1;35mPBCoreTitle\u001b[0m\u001b[1m(\u001b[0m\n",
       "                \u001b[33mstartTime\u001b[0m=\u001b[3;35mNone\u001b[0m,\n",
       "                \u001b[33mendTime\u001b[0m=\u001b[3;35mNone\u001b[0m,\n",
       "                \u001b[33mtimeAnnotation\u001b[0m=\u001b[3;35mNone\u001b[0m,\n",
       "                \u001b[33msource\u001b[0m=\u001b[3;35mNone\u001b[0m,\n",
       "                \u001b[33mref\u001b[0m=\u001b[3;35mNone\u001b[0m,\n",
       "                \u001b[33mversion\u001b[0m=\u001b[3;35mNone\u001b[0m,\n",
       "                \u001b[33mannotation\u001b[0m=\u001b[3;35mNone\u001b[0m,\n",
       "                \u001b[33mtext\u001b[0m=\u001b[32m'Title'\u001b[0m,\n",
       "                \u001b[33mtitleType\u001b[0m=\u001b[3;35mNone\u001b[0m,\n",
       "                \u001b[33mtitleTypeSource\u001b[0m=\u001b[3;35mNone\u001b[0m,\n",
       "                \u001b[33mtitleTypeRef\u001b[0m=\u001b[3;35mNone\u001b[0m,\n",
       "                \u001b[33mtitleTypeVersion\u001b[0m=\u001b[3;35mNone\u001b[0m,\n",
       "                \u001b[33mtitleTypeAnnotation\u001b[0m=\u001b[3;35mNone\u001b[0m\n",
       "            \u001b[1m)\u001b[0m\n",
       "        \u001b[1m]\u001b[0m,\n",
       "        \u001b[33mpbcoreSubject\u001b[0m=\u001b[3;35mNone\u001b[0m,\n",
       "        \u001b[33mpbcoreDescription\u001b[0m=\u001b[1m[\u001b[0m\n",
       "            \u001b[1;35mPBCoreDescription\u001b[0m\u001b[1m(\u001b[0m\n",
       "                \u001b[33mstartTime\u001b[0m=\u001b[3;35mNone\u001b[0m,\n",
       "                \u001b[33mendTime\u001b[0m=\u001b[3;35mNone\u001b[0m,\n",
       "                \u001b[33mtimeAnnotation\u001b[0m=\u001b[3;35mNone\u001b[0m,\n",
       "                \u001b[33msource\u001b[0m=\u001b[3;35mNone\u001b[0m,\n",
       "                \u001b[33mref\u001b[0m=\u001b[3;35mNone\u001b[0m,\n",
       "                \u001b[33mversion\u001b[0m=\u001b[3;35mNone\u001b[0m,\n",
       "                \u001b[33mannotation\u001b[0m=\u001b[3;35mNone\u001b[0m,\n",
       "                \u001b[33mtext\u001b[0m=\u001b[32m''\u001b[0m,\n",
       "                \u001b[33mdescriptionType\u001b[0m=\u001b[3;35mNone\u001b[0m,\n",
       "                \u001b[33mdescriptionTypeSource\u001b[0m=\u001b[3;35mNone\u001b[0m,\n",
       "                \u001b[33mdescriptionTypeRef\u001b[0m=\u001b[3;35mNone\u001b[0m,\n",
       "                \u001b[33mdescriptionTypeVersion\u001b[0m=\u001b[3;35mNone\u001b[0m,\n",
       "                \u001b[33mdescriptionTypeAnnotation\u001b[0m=\u001b[3;35mNone\u001b[0m,\n",
       "                \u001b[33msegmentType\u001b[0m=\u001b[3;35mNone\u001b[0m,\n",
       "                \u001b[33msegmentTypeSource\u001b[0m=\u001b[3;35mNone\u001b[0m,\n",
       "                \u001b[33msegmentTypeRef\u001b[0m=\u001b[3;35mNone\u001b[0m,\n",
       "                \u001b[33msegmentTypeVersion\u001b[0m=\u001b[3;35mNone\u001b[0m,\n",
       "                \u001b[33msegmentTypeAnnotation\u001b[0m=\u001b[3;35mNone\u001b[0m\n",
       "            \u001b[1m)\u001b[0m\n",
       "        \u001b[1m]\u001b[0m,\n",
       "        \u001b[33mpbcoreGenre\u001b[0m=\u001b[3;35mNone\u001b[0m,\n",
       "        \u001b[33mpbcoreRelation\u001b[0m=\u001b[3;35mNone\u001b[0m,\n",
       "        \u001b[33mpbcoreCoverage\u001b[0m=\u001b[3;35mNone\u001b[0m,\n",
       "        \u001b[33mpbcoreAudienceLevel\u001b[0m=\u001b[3;35mNone\u001b[0m,\n",
       "        \u001b[33mpbcoreAudienceRating\u001b[0m=\u001b[3;35mNone\u001b[0m,\n",
       "        \u001b[33mpbcoreCreator\u001b[0m=\u001b[3;35mNone\u001b[0m,\n",
       "        \u001b[33mpbcoreContributor\u001b[0m=\u001b[3;35mNone\u001b[0m,\n",
       "        \u001b[33mpbcorePublisher\u001b[0m=\u001b[3;35mNone\u001b[0m,\n",
       "        \u001b[33mpbcoreRightsSummary\u001b[0m=\u001b[3;35mNone\u001b[0m,\n",
       "        \u001b[33mpbcoreInstantiation\u001b[0m=\u001b[3;35mNone\u001b[0m,\n",
       "        \u001b[33mpbcoreAnnotation\u001b[0m=\u001b[3;35mNone\u001b[0m,\n",
       "        \u001b[33mpbcorePart\u001b[0m=\u001b[3;35mNone\u001b[0m,\n",
       "        \u001b[33mpbcoreExtension\u001b[0m=\u001b[3;35mNone\u001b[0m,\n",
       "        \u001b[33mxsi_schemaLocation\u001b[0m=\u001b[32m'http://www.example.com/schema'\u001b[0m\n",
       "    \u001b[1m)\u001b[0m,\n",
       "    \u001b[33mpbcoreCollection\u001b[0m=\u001b[3;35mNone\u001b[0m,\n",
       "    \u001b[33mpbcoreInstantiationDocument\u001b[0m=\u001b[3;35mNone\u001b[0m\n",
       "\u001b[1m)\u001b[0m\n"
      ]
     },
     "metadata": {},
     "output_type": "display_data"
    }
   ],
   "source": [
    "from rich import print\n",
    "p = PBCore(**mvp)\n",
    "p.pbcoreDescriptionDocument.pbcoreIdentifier[0].source = 'validator'\n",
    "\n",
    "print(p)"
   ]
  }
 ],
 "metadata": {
  "kernelspec": {
   "display_name": "pbcore-util (3.13.4)",
   "language": "python",
   "name": "python3"
  },
  "language_info": {
   "codemirror_mode": {
    "name": "ipython",
    "version": 3
   },
   "file_extension": ".py",
   "mimetype": "text/x-python",
   "name": "python",
   "nbconvert_exporter": "python",
   "pygments_lexer": "ipython3",
   "version": "3.13.4"
  }
 },
 "nbformat": 4,
 "nbformat_minor": 5
}
