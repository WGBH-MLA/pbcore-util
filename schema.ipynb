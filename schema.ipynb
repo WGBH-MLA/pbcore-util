{
 "cells": [
  {
   "cell_type": "code",
   "execution_count": 38,
   "id": "4b9d6552",
   "metadata": {},
   "outputs": [],
   "source": [
    "import os\n",
    "from jsonschema_rs import validator_for\n",
    "import json\n",
    "\n",
    "from jsonschema import validate\n",
    "from pbcore.models.models import PBCore"
   ]
  },
  {
   "cell_type": "code",
   "execution_count": 2,
   "id": "4bd11019",
   "metadata": {},
   "outputs": [],
   "source": [
    "SCHEMA='schemas/pbcore.schema.json'\n",
    "DIRECTORY = 'pbcore-json'\n",
    "\n",
    "with open(SCHEMA, 'r') as schema_file:\n",
    "    schema = json.load(schema_file)\n",
    "\n",
    "pb = validator_for(schema)\n",
    "\n",
    "# with open(os.path.join(DIRECTORY, 'cpb-aacip_15-29p2p5g8.json'), 'r') as f:\n",
    "with open(os.path.join(DIRECTORY, 'cpb-aacip-15-nc5s756s32.json'), 'r') as f:\n",
    "    json_data = json.load(f)\n",
    "\n",
    "# json_data\n",
    "\n",
    "# validate_json(json_data)\n",
    "# validate(json_data, schema)\n",
    "pb.validate(json_data)"
   ]
  },
  {
   "cell_type": "code",
   "execution_count": null,
   "id": "b1d553b3",
   "metadata": {},
   "outputs": [],
   "source": [
    "errors = []\n",
    "success = []\n",
    "for path, subdirs, files in os.walk(DIRECTORY):\n",
    "    for name in files:\n",
    "        if name.startswith('cpb-aacip') and name.endswith('.json'):\n",
    "            with open(os.path.join(path, name), 'r') as f:\n",
    "                json_data = json.load(f)\n",
    "                try:\n",
    "                    # validate(json_data, schema) # jsonschema\n",
    "                    # pb.validate(json_data) # jsonschema_rs\n",
    "                    PBCore.model_validate(json_data) # pydantic\n",
    "                    # print(f\"{name} is valid.\")\n",
    "                    success.append(name)\n",
    "                except Exception as e:\n",
    "                    print(f\"{name} is invalid: {e.message}\")\n",
    "                    errors.append((name, e.message))\n"
   ]
  },
  {
   "cell_type": "code",
   "execution_count": 10,
   "id": "529521e9",
   "metadata": {},
   "outputs": [
    {
     "data": {
      "text/plain": [
       "(4159, 0)"
      ]
     },
     "execution_count": 10,
     "metadata": {},
     "output_type": "execute_result"
    }
   ],
   "source": [
    "len(success), len(errors)"
   ]
  },
  {
   "cell_type": "code",
   "execution_count": 34,
   "id": "cecbb653",
   "metadata": {},
   "outputs": [],
   "source": [
    "mvp={\n",
    "        \"pbcoreDescriptionDocument\": {\n",
    "            \"xsi:schemaLocation\": \"http://www.example.com/schema\",\n",
    "            \"pbcoreIdentifier\": [{\"text\": \"123\", \"source\": \"example\"}],\n",
    "            \"pbcoreTitle\": [{\"text\": \"Title\"}],\n",
    "            \"pbcoreDescription\": [{\"text\": \"\"}],\n",
    "        },\n",
    "    }\n",
    "# del mvp['pbcoreDescriptionDocument']['pbcoreIdentifier'][0]['source']\n",
    "\n",
    "pb.validate(mvp)"
   ]
  },
  {
   "cell_type": "code",
   "execution_count": 12,
   "id": "c7f741b1",
   "metadata": {},
   "outputs": [],
   "source": [
    "def set_nested_path(d, path, value):\n",
    "    keys = path.split('.')\n",
    "    for key in keys[:-1]:\n",
    "        d = d.setdefault(key, {})\n",
    "    d[keys[-1]] = value\n",
    "    return d"
   ]
  },
  {
   "cell_type": "code",
   "execution_count": null,
   "id": "c57b4642",
   "metadata": {},
   "outputs": [
    {
     "name": "stdout",
     "output_type": "stream",
     "text": [
      "{'pbcoreDescriptionDocumen': {'pbcoreIdentifier': {0: {'text': '123'}}},\n",
      " 'pbcoreDescriptionDocument': {'pbcoreDescription': [{'text': ''}],\n",
      "                               'pbcoreIdentifier': [{'source': 'example',\n",
      "                                                     'text': '123'}],\n",
      "                               'pbcoreTitle': [{'text': 'Title'}],\n",
      "                               'xsi:schemaLocation': 'http://www.example.com/schema'}}\n"
     ]
    },
    {
     "ename": "ValueError",
     "evalue": "Dict key must be str. Got 'int'",
     "output_type": "error",
     "traceback": [
      "\u001b[31m---------------------------------------------------------------------------\u001b[39m",
      "\u001b[31mValueError\u001b[39m                                Traceback (most recent call last)",
      "\u001b[36mCell\u001b[39m\u001b[36m \u001b[39m\u001b[32mIn[29]\u001b[39m\u001b[32m, line 6\u001b[39m\n\u001b[32m      4\u001b[39m p.pbcoreDescriptionDocumen.pbcoreIdentifier[\u001b[32m0\u001b[39m].text = \u001b[33m\"\u001b[39m\u001b[33m123\u001b[39m\u001b[33m\"\u001b[39m\n\u001b[32m      5\u001b[39m p.pprint()\n\u001b[32m----> \u001b[39m\u001b[32m6\u001b[39m \u001b[43mpb\u001b[49m\u001b[43m.\u001b[49m\u001b[43mvalidate\u001b[49m\u001b[43m(\u001b[49m\u001b[43mp\u001b[49m\u001b[43m.\u001b[49m\u001b[43mtoDict\u001b[49m\u001b[43m(\u001b[49m\u001b[43m)\u001b[49m\u001b[43m)\u001b[49m\n",
      "\u001b[31mValueError\u001b[39m: Dict key must be str. Got 'int'"
     ]
    }
   ],
   "source": [
    "from dotmap import DotMap\n",
    "\n",
    "p = DotMap(mvp)\n",
    "p.pprint()\n",
    "pb.validate(p.toDict())\n"
   ]
  },
  {
   "cell_type": "code",
   "execution_count": null,
   "id": "fa4d10ba",
   "metadata": {},
   "outputs": [],
   "source": []
  },
  {
   "cell_type": "code",
   "execution_count": 37,
   "id": "daec9103",
   "metadata": {},
   "outputs": [
    {
     "data": {
      "text/plain": [
       "PBCore(pbcoreDescriptionDocument=PBCoreDescriptionDocument(xsi_schemaLocation='http://www.example.com/schema', pbcoreAssetType=None, pbcoreAssetDate=None, pbcoreIdentifier=[PBCoreElement(ref=None, version=None, annotation=None)], pbcoreTitle=[PBCoreTitleItem(startTime=None, endTime=None, timeAnnotation=None, ref=None, version=None, annotation=None, titleType=None, titleTypeSource=None, titleTypeRef=None, titleTypeVersion=None, titleTypeAnnotation=None)], pbcoreSubject=None, pbcoreDescription=[PBCoreDescriptionItem(text='')], pbcoreCreator=None, pbcoreInstantiation=None, pbcoreAnnotation=None, pbcoreRelation=None, pbcoreCoverage=None, pbcoreAudienceLevel=None))"
      ]
     },
     "execution_count": 37,
     "metadata": {},
     "output_type": "execute_result"
    }
   ],
   "source": [
    "PBCore.model_validate(mvp)"
   ]
  }
 ],
 "metadata": {
  "kernelspec": {
   "display_name": "pbcore-util (3.13.4)",
   "language": "python",
   "name": "python3"
  },
  "language_info": {
   "codemirror_mode": {
    "name": "ipython",
    "version": 3
   },
   "file_extension": ".py",
   "mimetype": "text/x-python",
   "name": "python",
   "nbconvert_exporter": "python",
   "pygments_lexer": "ipython3",
   "version": "3.13.4"
  }
 },
 "nbformat": 4,
 "nbformat_minor": 5
}
