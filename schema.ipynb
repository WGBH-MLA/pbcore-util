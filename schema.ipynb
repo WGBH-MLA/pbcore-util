{
 "cells": [
  {
   "cell_type": "code",
   "execution_count": 110,
   "id": "4b9d6552",
   "metadata": {},
   "outputs": [],
   "source": [
    "from jsonschema import validate, ValidationError\n",
    "from json import load"
   ]
  },
  {
   "cell_type": "code",
   "execution_count": 111,
   "id": "4bd11019",
   "metadata": {},
   "outputs": [],
   "source": [
    "DIRECTORY = 'batch3'\n",
    "# with open(path.join(DIRECTORY, 'cpb-aacip-15-7h1dj58h6r.json'), 'r') as f:\n",
    "#     import json\n",
    "#     json_data = json.load(f)\n",
    "\n",
    "# json_data"
   ]
  },
  {
   "cell_type": "code",
   "execution_count": 112,
   "id": "3b33a60f",
   "metadata": {},
   "outputs": [],
   "source": [
    "from os import path\n",
    "import json\n",
    "SCHEMA='schemas/pbcore.schema.json'\n",
    "\n",
    "with open(SCHEMA, 'r') as schema_file:\n",
    "    schema = load(schema_file)\n",
    "\n",
    "def validate_json(json_data, schema_file=schema):\n",
    "    try:\n",
    "        validate(instance=json_data, schema=schema)\n",
    "        return True\n",
    "    except ValidationError as e:\n",
    "        return e.message\n",
    "\n",
    "\n"
   ]
  },
  {
   "cell_type": "code",
   "execution_count": 113,
   "id": "d987bfa2",
   "metadata": {},
   "outputs": [],
   "source": [
    "# validate_json(json_data)\n",
    "# validate(json_data, schema)"
   ]
  },
  {
   "cell_type": "code",
   "execution_count": 114,
   "id": "b1d553b3",
   "metadata": {},
   "outputs": [],
   "source": [
    "import os\n",
    "errors = []\n",
    "for path, subdirs, files in os.walk(DIRECTORY):\n",
    "    for name in files:\n",
    "        if name.startswith('cpb-aacip-') and name.endswith('.json'):\n",
    "            with open(os.path.join(path, name), 'r') as f:\n",
    "                json_data = json.load(f)\n",
    "                try:\n",
    "                    validate(json_data, schema)\n",
    "                    # print(f\"{name} is valid.\")\n",
    "                except ValidationError as e:\n",
    "                    print(f\"{name} is invalid: {e.message}\")\n",
    "                    errors.append((name, e.message))\n"
   ]
  },
  {
   "cell_type": "code",
   "execution_count": 115,
   "id": "529521e9",
   "metadata": {},
   "outputs": [
    {
     "data": {
      "text/plain": [
       "0"
      ]
     },
     "execution_count": 115,
     "metadata": {},
     "output_type": "execute_result"
    }
   ],
   "source": [
    "len(errors)"
   ]
  }
 ],
 "metadata": {
  "kernelspec": {
   "display_name": "pbcore-util (3.13.4)",
   "language": "python",
   "name": "python3"
  },
  "language_info": {
   "codemirror_mode": {
    "name": "ipython",
    "version": 3
   },
   "file_extension": ".py",
   "mimetype": "text/x-python",
   "name": "python",
   "nbconvert_exporter": "python",
   "pygments_lexer": "ipython3",
   "version": "3.13.4"
  }
 },
 "nbformat": 4,
 "nbformat_minor": 5
}
