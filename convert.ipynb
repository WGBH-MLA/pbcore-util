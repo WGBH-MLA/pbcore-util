{
 "cells": [
  {
   "cell_type": "code",
   "execution_count": 32,
   "id": "62704665",
   "metadata": {},
   "outputs": [],
   "source": [
    "import httpx\n",
    "from lxml import etree\n",
    "import json\n",
    "# Placeholder paths\n",
    "XSD_PATH = \"schemas/pbcore-2.1.xsd\"\n",
    "XSL_PATH = \"stylesheets/pbcore-xml-to-json.xsl\"\n",
    "JSON_SCHEMA_PATH = \"schemas/pbcore-schema.json\"\n",
    "PBCORE_DIR = 'pbcore-xml'\n",
    "JSON_DIR = 'pbcore-json'\n"
   ]
  },
  {
   "cell_type": "code",
   "execution_count": 33,
   "id": "0fd25166",
   "metadata": {},
   "outputs": [],
   "source": [
    "with open('guids2.txt') as f:\n",
    "    guids = f.read().splitlines()\n",
    "    "
   ]
  },
  {
   "cell_type": "code",
   "execution_count": 34,
   "id": "58460dc0",
   "metadata": {},
   "outputs": [],
   "source": [
    "aapb = 'https://americanarchive.org'\n",
    "def pbcore_url(guid:str):\n",
    "    return f\"{aapb}/catalog/{guid}.pbcore\"\n",
    "url = 'http://localhost:8000/convert'"
   ]
  },
  {
   "cell_type": "code",
   "execution_count": 35,
   "id": "f83f2480",
   "metadata": {},
   "outputs": [],
   "source": [
    "async def convert_xml_to_json(xml: bytes):\n",
    "\n",
    "    pbcore_xml = etree.fromstring(xml)\n",
    "    xslt_doc = etree.parse(XSL_PATH)\n",
    "    transform = etree.XSLT(xslt_doc)\n",
    "    \n",
    "    json_str = str(transform(pbcore_xml))\n",
    "    return json.loads(json_str)\n",
    "        "
   ]
  },
  {
   "cell_type": "code",
   "execution_count": 36,
   "id": "386f9002",
   "metadata": {},
   "outputs": [],
   "source": [
    "async def convert_local_files(path: str=PBCORE_DIR):\n",
    "    from pathlib import Path\n",
    "    import json\n",
    "\n",
    "    for file in Path(path).glob('*.pbcore'):\n",
    "        with open(file, 'rb') as f:\n",
    "            xml = f.read()\n",
    "        json_data = await convert_xml_to_json(xml)\n",
    "        with open(f'{JSON_DIR}/{file.stem}.json', 'w') as f:\n",
    "            json.dump(json_data, f, indent=2)\n",
    "    \n",
    "# await convert_local_files('pbcore-xml')"
   ]
  },
  {
   "cell_type": "code",
   "execution_count": 37,
   "id": "601155eb",
   "metadata": {},
   "outputs": [],
   "source": [
    "\n",
    "ns = {'pb': 'http://www.pbcore.org/PBCore/PBCoreNamespace.html'}\n",
    "async def convert_xml_to_json_from_url(guid: str):\n",
    "    async with httpx.AsyncClient(timeout=10) as client:\n",
    "        response = await client.get(pbcore(guid))\n",
    "        response.raise_for_status()\n",
    "        xml = response.content\n",
    "        return await convert_xml_to_json(xml)"
   ]
  },
  {
   "cell_type": "code",
   "execution_count": 38,
   "id": "5c0f380c",
   "metadata": {},
   "outputs": [],
   "source": [
    "def save_converted_json(json_data, file_path):\n",
    "    with open(file_path, 'w') as json_file:\n",
    "        json.dump(json_data, json_file, ensure_ascii=False, indent=2)"
   ]
  },
  {
   "cell_type": "code",
   "execution_count": 39,
   "id": "76610c0b",
   "metadata": {},
   "outputs": [],
   "source": [
    "async def convert_local_guids(guids):\n",
    "    success, errors = [], []\n",
    "    for guid in guids:\n",
    "        try:\n",
    "            pbcore_json = await convert_xml_to_json_from_url(guid)\n",
    "            if not pbcore_json:\n",
    "                print(f\"Failed to convert {guid}\")\n",
    "                errors.append(guid)\n",
    "                continue\n",
    "            \n",
    "            save_converted_json(pbcore_json, f'{guid}.json')\n",
    "            success.append(guid)\n",
    "        except Exception as e:\n",
    "            print(f\"Error processing {guid}: {e}\")\n",
    "            errors.append(guid)\n"
   ]
  },
  {
   "cell_type": "code",
   "execution_count": 40,
   "id": "d38d7f36",
   "metadata": {},
   "outputs": [],
   "source": [
    "import httpx\n",
    "\n",
    "async def fetch(url: str):\n",
    "    async with httpx.AsyncClient(timeout=10) as client:\n",
    "        response = await client.get(url)\n",
    "        response.raise_for_status()\n",
    "        return response.json()\n"
   ]
  },
  {
   "cell_type": "code",
   "execution_count": 41,
   "id": "724876c2",
   "metadata": {},
   "outputs": [],
   "source": [
    "\n",
    "async def search_and_convert(query, rows=100):\n",
    "    url = f'{aapb}/api.json?q={query}&rows={rows}'\n",
    "\n",
    "    results = await fetch(url)\n",
    "    success, errors = [], []\n",
    "\n",
    "    print(f\"{results['response']['numFound']} documents found.\")\n",
    "    for doc in results['response']['docs']:\n",
    "        guid = doc['id']\n",
    "        try:\n",
    "            xml = doc['xml']\n",
    "            if not xml:\n",
    "                print(f\"No XML found for {guid}\")\n",
    "                errors.append(guid)\n",
    "                continue\n",
    "            with open(f'{PBCORE_DIR}/{guid}.pbcore', 'w') as f:\n",
    "                f.write(xml)\n",
    "            pbcore_json = await convert_xml_to_json(xml.encode('utf-8'))\n",
    "            if not pbcore_json:\n",
    "                print(f\"Failed to convert {guid}\")\n",
    "                errors.append(guid)\n",
    "                continue\n",
    "\n",
    "            save_converted_json(pbcore_json, f'{JSON_DIR}/{guid}.json')\n",
    "            success.append(guid)\n",
    "        except Exception as e:\n",
    "            print(f\"Error processing {guid}: {e}\")\n",
    "            errors.append(guid)\n",
    "    s = len(success)\n",
    "    e = len(errors)\n",
    "\n",
    "    if (e + s) > 0:\n",
    "        print(f'{s/(e+s):.2%} of {s+e} documents were processed successfully with {e} errors.')\n",
    "    return s, e\n",
    "    "
   ]
  },
  {
   "cell_type": "code",
   "execution_count": 42,
   "id": "3c5db260",
   "metadata": {},
   "outputs": [],
   "source": [
    "# await search_and_convert('river')"
   ]
  },
  {
   "cell_type": "code",
   "execution_count": 43,
   "id": "f6eec73c",
   "metadata": {},
   "outputs": [],
   "source": [
    "from faker import Faker\n",
    "from random import randrange\n",
    "\n",
    "\n",
    "fake = Faker()"
   ]
  },
  {
   "cell_type": "code",
   "execution_count": 44,
   "id": "23581ebd",
   "metadata": {},
   "outputs": [
    {
     "name": "stdout",
     "output_type": "stream",
     "text": [
      "push opportunity before professional\n",
      "43378 documents found.\n",
      "100.00% of 100 documents were processed successfully with 0 errors.\n",
      "them career how show\n",
      "118156 documents found.\n",
      "100.00% of 100 documents were processed successfully with 0 errors.\n",
      "officer claim final second\n",
      "61865 documents found.\n",
      "100.00% of 100 documents were processed successfully with 0 errors.\n",
      "final shake always\n",
      "76749 documents found.\n",
      "100.00% of 100 documents were processed successfully with 0 errors.\n",
      "safe wide with late\n",
      "42432 documents found.\n",
      "100.00% of 100 documents were processed successfully with 0 errors.\n",
      "building\n",
      "103022 documents found.\n",
      "100.00% of 100 documents were processed successfully with 0 errors.\n",
      "see\n",
      "162350 documents found.\n",
      "100.00% of 100 documents were processed successfully with 0 errors.\n",
      "matter\n",
      "95633 documents found.\n",
      "100.00% of 100 documents were processed successfully with 0 errors.\n",
      "church race\n",
      "16163 documents found.\n",
      "100.00% of 100 documents were processed successfully with 0 errors.\n",
      "option memory play\n",
      "44594 documents found.\n",
      "100.00% of 100 documents were processed successfully with 0 errors.\n"
     ]
    }
   ],
   "source": [
    "for i in range(10):\n",
    "    q = ' '.join(fake.words(randrange(1, 5)))\n",
    "    print(q)\n",
    "    await search_and_convert(q)"
   ]
  }
 ],
 "metadata": {
  "kernelspec": {
   "display_name": "pbcore-util (3.13.4)",
   "language": "python",
   "name": "python3"
  },
  "language_info": {
   "codemirror_mode": {
    "name": "ipython",
    "version": 3
   },
   "file_extension": ".py",
   "mimetype": "text/x-python",
   "name": "python",
   "nbconvert_exporter": "python",
   "pygments_lexer": "ipython3",
   "version": "3.13.4"
  }
 },
 "nbformat": 4,
 "nbformat_minor": 5
}
