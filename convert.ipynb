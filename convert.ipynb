{
 "cells": [
  {
   "cell_type": "code",
   "execution_count": 13,
   "id": "62704665",
   "metadata": {},
   "outputs": [],
   "source": [
    "\n",
    "# Placeholder paths\n",
    "XSD_PATH = \"schemas/pbcore-2.1.xsd\"\n",
    "XSL_PATH = \"stylesheets/pbcore-xml-to-json.xsl\"\n",
    "JSON_SCHEMA_PATH = \"schemas/pbcore-schema.json\""
   ]
  },
  {
   "cell_type": "code",
   "execution_count": 14,
   "id": "0fd25166",
   "metadata": {},
   "outputs": [],
   "source": [
    "with open('guids2.txt') as f:\n",
    "    guids = f.read().splitlines()\n",
    "    "
   ]
  },
  {
   "cell_type": "code",
   "execution_count": 15,
   "id": "58460dc0",
   "metadata": {},
   "outputs": [],
   "source": [
    "aapb = 'https://americanarchive.org'\n",
    "def pbcore(guid:str):\n",
    "    return f\"{aapb}/catalog/{guid}.pbcore\"\n",
    "url = 'http://localhost:8000/convert'"
   ]
  },
  {
   "cell_type": "code",
   "execution_count": 16,
   "id": "e89d6e50",
   "metadata": {},
   "outputs": [],
   "source": [
    "import requests\n",
    "\n",
    "def fetch_pbcore_data(guid):\n",
    "    url = pbcore(guid)\n",
    "    response = requests.get(url)\n",
    "    if response.status_code == 200:\n",
    "        return response.json()\n",
    "    else:\n",
    "        return {\"error\": response.text}"
   ]
  },
  {
   "cell_type": "code",
   "execution_count": 17,
   "id": "601155eb",
   "metadata": {},
   "outputs": [],
   "source": [
    "import httpx\n",
    "from lxml import etree\n",
    "import json\n",
    "ns = {'pb': 'http://www.pbcore.org/PBCore/PBCoreNamespace.html'}\n",
    "async def convert_xml_to_json_from_url(guid: str):\n",
    "    async with httpx.AsyncClient(timeout=10) as client:\n",
    "        response = await client.get(pbcore(guid))\n",
    "        response.raise_for_status()\n",
    "        xml = response.content\n",
    "        return await convert_xml_to_json(xml)\n",
    "\n",
    "async def convert_xml_to_json(xml: bytes):\n",
    "\n",
    "    pbcore_xml = etree.fromstring(xml)\n",
    "    xslt_doc = etree.parse(XSL_PATH)\n",
    "    transform = etree.XSLT(xslt_doc)\n",
    "    \n",
    "    json_str = str(transform(pbcore_xml))\n",
    "    return json.loads(json_str)\n",
    "        "
   ]
  },
  {
   "cell_type": "code",
   "execution_count": 18,
   "id": "5c0f380c",
   "metadata": {},
   "outputs": [],
   "source": [
    "def save_converted_json(json_data, file_path):\n",
    "    with open(file_path, 'w') as json_file:\n",
    "        json.dump(json_data, json_file, ensure_ascii=False, indent=2)"
   ]
  },
  {
   "cell_type": "code",
   "execution_count": 19,
   "id": "76610c0b",
   "metadata": {},
   "outputs": [],
   "source": [
    "async def convert_local_guids(guids):\n",
    "    success, errors = [], []\n",
    "    for guid in guids:\n",
    "        try:\n",
    "            pbcore_json = await convert_xml_to_json_from_url(guid)\n",
    "            if not pbcore_json:\n",
    "                print(f\"Failed to convert {guid}\")\n",
    "                errors.append(guid)\n",
    "                continue\n",
    "            \n",
    "            save_converted_json(pbcore_json, f'{guid}.json')\n",
    "            success.append(guid)\n",
    "        except Exception as e:\n",
    "            print(f\"Error processing {guid}: {e}\")\n",
    "            errors.append(guid)\n"
   ]
  },
  {
   "cell_type": "code",
   "execution_count": 20,
   "id": "eae85e92",
   "metadata": {},
   "outputs": [
    {
     "data": {
      "text/plain": [
       "(53, 0)"
      ]
     },
     "execution_count": 20,
     "metadata": {},
     "output_type": "execute_result"
    }
   ],
   "source": [
    "errors\n",
    "len(success), len(errors)"
   ]
  },
  {
   "cell_type": "code",
   "execution_count": 21,
   "id": "d38d7f36",
   "metadata": {},
   "outputs": [],
   "source": [
    "async def fetch(url: str):\n",
    "    async with httpx.AsyncClient(timeout=10) as client:\n",
    "        response = await client.get(url)\n",
    "        response.raise_for_status()\n",
    "        return response.json()\n"
   ]
  },
  {
   "cell_type": "code",
   "execution_count": null,
   "id": "724876c2",
   "metadata": {},
   "outputs": [],
   "source": [
    "async def search_and_convert(query, rows=100, out_dir='batch3'):\n",
    "    url = f'{aapb}/api.json?q={query}&rows={rows}'\n",
    "\n",
    "    results = await fetch(url)\n",
    "    success, errors = [], []\n",
    "\n",
    "    print(f\"{results['response']['numFound']} documents found.\")\n",
    "    for doc in results['response']['docs']:\n",
    "        guid = doc['id']\n",
    "        try:\n",
    "            pbcore_json = await convert_xml_to_json(doc['xml'].encode())\n",
    "            if not pbcore_json:\n",
    "                print(f\"Failed to convert {guid}\")\n",
    "                errors.append(guid)\n",
    "                continue\n",
    "            \n",
    "            save_converted_json(pbcore_json, f'{guid}.json')\n",
    "            success.append(guid)\n",
    "        except Exception as e:\n",
    "            print(f\"Error processing {guid}: {e}\")\n",
    "            errors.append(guid)\n",
    "    s = len(success)\n",
    "    e = len(errors)\n",
    "\n",
    "    if (e + s) > 0:\n",
    "        print(f'{s/(e+s):.2%} of {s+e} documents were processed successfully with {e} errors.')\n",
    "    return s, e\n",
    "    "
   ]
  },
  {
   "cell_type": "code",
   "execution_count": 35,
   "id": "3c5db260",
   "metadata": {},
   "outputs": [
    {
     "name": "stdout",
     "output_type": "stream",
     "text": [
      "1382 documents found.\n",
      "100.00% of 100 documents were processed successfully with 0 errors.\n"
     ]
    },
    {
     "data": {
      "text/plain": [
       "(100, 0)"
      ]
     },
     "execution_count": 35,
     "metadata": {},
     "output_type": "execute_result"
    }
   ],
   "source": [
    "await search_and_convert('gbh')"
   ]
  }
 ],
 "metadata": {
  "kernelspec": {
   "display_name": "pbcore-util (3.13.4)",
   "language": "python",
   "name": "python3"
  },
  "language_info": {
   "codemirror_mode": {
    "name": "ipython",
    "version": 3
   },
   "file_extension": ".py",
   "mimetype": "text/x-python",
   "name": "python",
   "nbconvert_exporter": "python",
   "pygments_lexer": "ipython3",
   "version": "3.13.4"
  }
 },
 "nbformat": 4,
 "nbformat_minor": 5
}
